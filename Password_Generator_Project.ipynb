{
  "nbformat": 4,
  "nbformat_minor": 0,
  "metadata": {
    "colab": {
      "provenance": [],
      "authorship_tag": "ABX9TyN1mRaAAXg4j806iSKRiGIC",
      "include_colab_link": true
    },
    "kernelspec": {
      "name": "python3",
      "display_name": "Python 3"
    },
    "language_info": {
      "name": "python"
    }
  },
  "cells": [
    {
      "cell_type": "markdown",
      "metadata": {
        "id": "view-in-github",
        "colab_type": "text"
      },
      "source": [
        "<a href=\"https://colab.research.google.com/github/brian10101/Password-Generator-Project/blob/main/Password_Generator_Project.ipynb\" target=\"_parent\"><img src=\"https://colab.research.google.com/assets/colab-badge.svg\" alt=\"Open In Colab\"/></a>"
      ]
    },
    {
      "cell_type": "code",
      "execution_count": 26,
      "metadata": {
        "id": "-uZnetnz-oiI",
        "colab": {
          "base_uri": "https://localhost:8080/"
        },
        "outputId": "7aa84474-9689-44dd-944f-904934f9bc57"
      },
      "outputs": [
        {
          "output_type": "stream",
          "name": "stdout",
          "text": [
            "Welcome to the PyPassword Generator!\n",
            "How many letters would you like in your password?\n",
            "4\n",
            "How many symbols would you like?\n",
            "4\n",
            "How many numbers would you like?\n",
            "4\n",
            "Your password is: 4OV+(87#l!B3\n"
          ]
        }
      ],
      "source": [
        "from posixpath import join\n",
        "#Password Generator Project\n",
        "import random\n",
        "letters = ['a', 'b', 'c', 'd', 'e', 'f', 'g', 'h', 'i', 'j', 'k', 'l', 'm', 'n', 'o', 'p', 'q', 'r', 's', 't', 'u', 'v', 'w', 'x', 'y', 'z', 'A', 'B', 'C', 'D', 'E', 'F', 'G', 'H', 'I', 'J', 'K', 'L', 'M', 'N', 'O', 'P', 'Q', 'R', 'S', 'T', 'U', 'V', 'W', 'X', 'Y', 'Z']\n",
        "numbers = ['0', '1', '2', '3', '4', '5', '6', '7', '8', '9']\n",
        "symbols = ['!', '#', '$', '%', '&', '(', ')', '*', '+']\n",
        "\n",
        "print(\"Welcome to the PyPassword Generator!\")\n",
        "nr_letters= int(input(\"How many letters would you like in your password?\\n\"))\n",
        "nr_symbols = int(input(f\"How many symbols would you like?\\n\"))\n",
        "nr_numbers = int(input(f\"How many numbers would you like?\\n\"))\n",
        "\n",
        "\n",
        "def password_generator():\n",
        "  password = []\n",
        "  for i in range(nr_letters):\n",
        "    password.append(random.choice(letters))\n",
        "\n",
        "  for i in range(nr_symbols):\n",
        "    password.append(random.choice(symbols))\n",
        "\n",
        "  for i in range(nr_numbers):\n",
        "    password.append(random.choice(numbers))\n",
        "\n",
        "  random.shuffle(password)\n",
        "  print(\"Your password is:\",\"\".join(password))\n",
        "\n",
        "\n",
        "password_generator()\n",
        "\n",
        "\n",
        "\n"
      ]
    }
  ]
}